{
 "cells": [
  {
   "cell_type": "markdown",
   "id": "01da22a7",
   "metadata": {},
   "source": [
    "# Exercise 2: Blackjack"
   ]
  },
  {
   "cell_type": "markdown",
   "id": "4cbd48c8",
   "metadata": {},
   "source": [
    "For this exercise, we will learn how to play **Blackjack** by implementing the **Q-learning algorithm**. We will use the environment [Blackjack](https://gymnasium.farama.org/environments/toy_text/blackjack/), which provides a simple interface to interact with the game.\n",
    "\n",
    "\n",
    "<p align='center'><img src='./images/blackjack.png' alt='drawing' width='500'/></p>\n",
    "\n",
    "\n",
    "The rules of the Blackjack are the following:\n",
    "\n",
    "- The game is played with a standard 52-card deck. In the environment each card is draw with replacement (e.g., infinite deck) so card counting isn't possible.\n",
    "- The player and dealer are each dealt two cards. The player can see one of the dealer's cards.\n",
    "- The player can choose to **hit** (take another card) or **stick** (keep their current hand).\n",
    "- The goal is to get as close to 21 as possible without going over.\n",
    "- If the player's hand exceeds 21, they lose (bust).\n",
    "- If the player sticks, the dealer reveals their hidden card.\n",
    "- The dealer must hit until their hand is at least 17.\n",
    "- If the dealer busts, the player wins.\n",
    "- If both player and dealer end up with the some total, it's a tie.\n",
    "\n",
    "Different cards have different values:\n",
    "- Face cards (Jack, Queen and King): 10\n",
    "- Aces: can count either 1 or 11 (usable Ace)\n",
    "- Other cards: same value equal to their number\n",
    "\n",
    "The rewards are the following:\n",
    "- Player wins: +1\n",
    "- Player loses: -1\n",
    "- Tie: +0\n",
    "\n",
    "The two possible actions are:\n",
    "- 0: stick\n",
    "- 1: hit"
   ]
  },
  {
   "cell_type": "code",
   "execution_count": null,
   "id": "93426725",
   "metadata": {},
   "outputs": [],
   "source": [
    "from collections import defaultdict\n",
    "import os\n",
    "\n",
    "import imageio\n",
    "import gymnasium as gym\n",
    "import matplotlib.pyplot as plt\n",
    "import numpy as np\n",
    "from IPython.display import Video\n",
    "from tqdm import tqdm"
   ]
  },
  {
   "cell_type": "markdown",
   "id": "a3bd2182",
   "metadata": {},
   "source": [
    "We set the `sab` parameter to `True`, which means that we are using the same rules outlined in the book Reinforcement Learning: An Introduction by Sutton and Barto. If the player gets a natural blackjack (an Ace and a 10-value card) they get a reward of +1. If the dealer gets a natural blackjack, the player gets a reward of -1. If both player and dealer get a natural blackjack, the player gets a reward of +1."
   ]
  },
  {
   "cell_type": "code",
   "execution_count": 2,
   "id": "4b213ee4",
   "metadata": {},
   "outputs": [],
   "source": [
    "dict_env = {'id': 'Blackjack-v1',\n",
    "            'sab': True,\n",
    "            'render_mode': 'rgb_array'}\n",
    "\n",
    "env = gym.make(**dict_env)"
   ]
  },
  {
   "cell_type": "code",
   "execution_count": 3,
   "id": "dca63aad",
   "metadata": {},
   "outputs": [
    {
     "name": "stdout",
     "output_type": "stream",
     "text": [
      "Initial observation: (17, 10, 0)\n",
      "Initial info: {}\n"
     ]
    }
   ],
   "source": [
    "# Set a seed for reproducibility\n",
    "seed = 4321\n",
    "\n",
    "# This is the initial state of the environment.\n",
    "observation, info = env.reset(seed=seed)\n",
    "env.action_space.seed(seed)\n",
    "np.random.seed(seed)\n",
    "\n",
    "print(f'Initial observation: {observation}')\n",
    "print(f'Initial info: {info}')"
   ]
  },
  {
   "cell_type": "code",
   "execution_count": 4,
   "id": "06a91ba1",
   "metadata": {},
   "outputs": [
    {
     "data": {
      "text/plain": [
       "4321"
      ]
     },
     "execution_count": 4,
     "metadata": {},
     "output_type": "execute_result"
    }
   ],
   "source": [
    "# Set the seed for the action space to ensure reproducibility\n",
    "env.action_space.seed(seed)"
   ]
  },
  {
   "cell_type": "code",
   "execution_count": null,
   "id": "ba6d795c",
   "metadata": {},
   "outputs": [
    {
     "name": "stderr",
     "output_type": "stream",
     "text": [
      "/Users/sgalella/miniforge3/envs/RL/lib/python3.12/site-packages/pygame/pkgdata.py:25: UserWarning: pkg_resources is deprecated as an API. See https://setuptools.pypa.io/en/latest/pkg_resources.html. The pkg_resources package is slated for removal as early as 2025-11-30. Refrain from using this package or pin to Setuptools<81.\n",
      "  from pkg_resources import resource_stream, resource_exists\n"
     ]
    },
    {
     "name": "stdout",
     "output_type": "stream",
     "text": [
      "(21, 10, 0) 1\n",
      "(21, 10, 0) 0\n",
      "Episode finished. Total reward: 0.0\n"
     ]
    }
   ],
   "source": [
    "done = False\n",
    "total_reward = 0\n",
    "frames = []\n",
    "\n",
    "while not done:\n",
    "    # Save the frame for the video\n",
    "    frame = env.render()\n",
    "    frames.append(frame)\n",
    "\n",
    "    # Sample a random action from the action space\n",
    "    action = env.action_space.sample()\n",
    "    \n",
    "    # Take a step in the environment\n",
    "    observation, reward, terminated, truncated, info = env.step(action)\n",
    "    \n",
    "    # Add the reward to the total reward\n",
    "    total_reward += reward\n",
    "\n",
    "    # Check if the episode has ended\n",
    "    done = terminated or truncated\n",
    "\n",
    "    print(observation, action)\n",
    "\n",
    "print('Episode finished. Total reward:', total_reward)\n",
    "\n",
    "frame = env.render()\n",
    "frames.append(frame)\n",
    "\n",
    "\n",
    "env.close()"
   ]
  },
  {
   "cell_type": "code",
   "execution_count": null,
   "id": "64c7c749",
   "metadata": {},
   "outputs": [],
   "source": [
    "if not os.path.exists('videos'):\n",
    "    os.makedirs('videos')"
   ]
  },
  {
   "cell_type": "code",
   "execution_count": null,
   "id": "87b67a1a",
   "metadata": {},
   "outputs": [
    {
     "name": "stderr",
     "output_type": "stream",
     "text": [
      "IMAGEIO FFMPEG_WRITER WARNING: input image is not divisible by macro_block_size=16, resizing from (600, 500) to (608, 512) to ensure video compatibility with most codecs and players. To prevent resizing, make your input image divisible by the macro_block_size or set the macro_block_size to 1 (risking incompatibility).\n"
     ]
    }
   ],
   "source": [
    "random_video_path = os.path.join('videos', f'blackjack_random.mp4')\n",
    "imageio.mimsave(random_video_path, frames, fps=1)"
   ]
  },
  {
   "cell_type": "code",
   "execution_count": 7,
   "id": "e8a7c3b1",
   "metadata": {},
   "outputs": [
    {
     "data": {
      "text/html": [
       "<video src=\"videos/blackjack_episode_random.mp4\" controls  width=\"400\" >\n",
       "      Your browser does not support the <code>video</code> element.\n",
       "    </video>"
      ],
      "text/plain": [
       "<IPython.core.display.Video object>"
      ]
     },
     "execution_count": 7,
     "metadata": {},
     "output_type": "execute_result"
    }
   ],
   "source": [
    "Video(random_video_path, width=400)"
   ]
  },
  {
   "cell_type": "markdown",
   "id": "549fbc08",
   "metadata": {},
   "source": [
    "The observation of the environment is a tuple (sum player, sum dealer, usable ace). For example, we get the following prints from the previous game:\n",
    "1. (21, 10, 0) 1\n",
    "2. (21, 10, 0) 0\n",
    "\n",
    "Let's analyze the previous game:\n",
    "\n",
    "- The agent starts with a hand of 17.\n",
    "- The agent hits and gets a 4.\n",
    "- The agent now has a hand of 21, which is a winning hand (Blackjack).\n",
    "- The dealer shows the second card, which is an ace, summing up to 21 (the Ace can be counted as 1 or 11, whichever is best). This is not rendered in the environment.\n",
    "- It's a tie, and the agent receives no reward.\n",
    "\n",
    "Note: Due to randomness, it's possible that this game might be different to you. If so, try to analyze it to make sure you understand the environment.\n",
    "\n",
    "We can see both hands of the dealer and the player by accessing the atributes of the environment:"
   ]
  },
  {
   "cell_type": "code",
   "execution_count": null,
   "id": "32762d29",
   "metadata": {},
   "outputs": [
    {
     "name": "stdout",
     "output_type": "stream",
     "text": [
      "Dealer's hand: [10, 1]\n",
      "Player's hand: [7, 10, 4]\n"
     ]
    }
   ],
   "source": [
    "print(f\"Dealer's hand: {env.unwrapped.dealer}\")\n",
    "print(f\"Player's hand: {env.unwrapped.player}\")"
   ]
  },
  {
   "cell_type": "markdown",
   "id": "1afb4fcb",
   "metadata": {},
   "source": [
    "Let's implement the Q-learning algorithm to learn how to play Blackjack. The environment provides a simple interface to interact with the game, and we will use it to train our agent.\n",
    "\n",
    "We will define a Blackjack agent that learns to play the game using Q-learning. The agent will learn from its experiences and improve its policy over time.\n",
    "\n",
    "We will need to implement two methods:\n",
    "\n",
    "- `get_action`: This method will return the action to take based on the current state and the Q-table. We will use an epsilon-greedy policy to balance exploration and exploitation.\n",
    "- `update`: This method will update the Q-table based on the action taken, the reward received, and the next state. We will use the Q-learning update rule to adjust the Q-values.\n",
    "\n",
    "Remember the Q-Learning algorithm update:\n",
    "\n",
    "\\begin{equation*}\n",
    "q_{n+1}(S_t,A_t)\n",
    "= q_n(S_t,A_t)\n",
    "+ \\alpha\\Bigl[\\,\n",
    "  \\underbrace{R_{t+1} + \\gamma \\max_a q_n(S_{t+1},a)}_{\\text{target}}\n",
    "  \\;-\\;q_n(S_t,A_t)\n",
    "\\Bigr]\n",
    "\\end{equation*}\n",
    "\n",
    "we will define:\n",
    "\n",
    "\n",
    "\n",
    "Note that we actually keep track of two step counters:\n",
    "1. $t$ is the time index within the current episode (so $t=0,1,2,\\dots$ resets to 0 at the start of each episode).\n",
    "2. $n$ is the total update index across all episodes (so $n$ keeps growing even when you start a new episode).\n",
    "\n",
    "Consequently, after we've taken $t$ steps in episode 1, we have also performed $n=t$ total updates. But once we begin episode 2, $t$ resets to 0 while $i$ continues from where it left off, so in general $i \\ge t$ and across episodes $n$ strictly increases.\n"
   ]
  },
  {
   "cell_type": "code",
   "execution_count": null,
   "id": "fb58b3ab",
   "metadata": {},
   "outputs": [],
   "source": [
    "class BlackJackAgent:\n",
    "    def __init__(self,\n",
    "                 learning_rate=0.01,\n",
    "                 discount_factor=0.9,\n",
    "                 epsilon=0.1):\n",
    "        self.learning_rate = learning_rate\n",
    "        self.discount_factor = discount_factor\n",
    "        self.epsilon = epsilon\n",
    "        self.q_values = defaultdict(lambda: np.zeros(2))\n",
    "\n",
    "    def select_action(self, state):\n",
    "        # We want to select a random action with probability epsilon, otherwise we select the action with the highest Q-value. \n",
    "        raise NotImplementedError('You need to implement the epsilon-greedy action selection method.')\n",
    "        if ... < ...:\n",
    "            return np.random.choice([0, 1])\n",
    "        \n",
    "        # Otherwise, we select the action with the highest Q-value for the current state.\n",
    "        # If there is a tie, we break it randomly.\n",
    "        return np.argmax(self.q_values[state])\n",
    "            \n",
    "    def update(self, state, action, reward, terminated, next_state):\n",
    "        # Calculate the target value. Note you need to multiply the next state's maximum Q-value by (not terminated) to ensure that we do not consider future rewards if the episode has ended.\n",
    "        raise NotImplementedError('You need to implement the Q-value update rule.')\n",
    "        target = reward + (not terminated) * ... * ...\n",
    "        self.q_values[state][action] += self.learning_rate * (target - self.q_values[state][action])"
   ]
  },
  {
   "cell_type": "markdown",
   "id": "14424a87",
   "metadata": {},
   "source": [
    "<details>\n",
    "<summary>Double click to see the solution.</summary>\n",
    "\n",
    "```python\n",
    "class BlackJackAgent:\n",
    "    def __init__(self,\n",
    "                 learning_rate=0.01,\n",
    "                 discount_factor=0.9,\n",
    "                 epsilon=0.1):\n",
    "        self.learning_rate = learning_rate\n",
    "        self.discount_factor = discount_factor\n",
    "        self.epsilon = epsilon\n",
    "        self.q_values = defaultdict(lambda: np.zeros(2))\n",
    "\n",
    "    def select_action(self, state):\n",
    "        # We want to select a random action with probability epsilon, otherwise we select the action with the highest Q-value.\n",
    "        if np.random.random() < self.epsilon:\n",
    "            return np.random.choice([0, 1])\n",
    "        \n",
    "        # Otherwise, we select the action with the highest Q-value for the current state.\n",
    "        # If there is a tie, we break it randomly.\n",
    "        return np.argmax(self.q_values[state])\n",
    "            \n",
    "    def update(self, state, action, reward, terminated, next_state):\n",
    "        # Calculate the target value. Note you need to multiply the next state's maximum Q-value by (not terminated) to ensure that we do not consider future rewards if the episode has ended.\n",
    "        target = reward + self.discount_factor * (not terminated) * max(self.q_values[next_state])\n",
    "        self.q_values[state][action] += self.learning_rate * (target - self.q_values[state][action])\n",
    "```"
   ]
  },
  {
   "cell_type": "markdown",
   "id": "8352fc49",
   "metadata": {},
   "source": [
    "Let's initialize an agent with the default parameters. Try to change the parameters to see how it changes the results!"
   ]
  },
  {
   "cell_type": "code",
   "execution_count": 14,
   "id": "47df16c5",
   "metadata": {},
   "outputs": [],
   "source": [
    "learning_rate = 0.01\n",
    "discount_factor = 0.99\n",
    "epsilon = 0.1\n",
    "\n",
    "agent = BlackJackAgent(learning_rate=learning_rate,\n",
    "                       discount_factor=discount_factor,\n",
    "                       epsilon=epsilon)"
   ]
  },
  {
   "cell_type": "markdown",
   "id": "2a8281b2",
   "metadata": {},
   "source": [
    "Next, we define the number of episodes. The more episodes you run, the better the agent will perform since we will get better estimates of the q-values. However, it will take longer to train."
   ]
  },
  {
   "cell_type": "code",
   "execution_count": 15,
   "id": "49194213",
   "metadata": {},
   "outputs": [],
   "source": [
    "num_episodes = 1000000  # Try different values!"
   ]
  },
  {
   "cell_type": "code",
   "execution_count": 16,
   "id": "e73b8237",
   "metadata": {},
   "outputs": [
    {
     "name": "stderr",
     "output_type": "stream",
     "text": [
      "100%|██████████| 1000000/1000000 [00:50<00:00, 19974.03it/s]\n"
     ]
    }
   ],
   "source": [
    "rewards = np.zeros(num_episodes)\n",
    "\n",
    "for i_episode in tqdm(range(num_episodes)):\n",
    "    state, _ = env.reset(seed=i_episode)  # For reproducibility, we reset the environment with a seed based on the episode number. \n",
    "    done = False\n",
    "    \n",
    "    while not done:\n",
    "        # Sample an action using the agent's epsilon-greedy policy\n",
    "        action = agent.select_action(state)\n",
    "\n",
    "        # Take a step in the environment\n",
    "        next_state, reward, terminated, truncated, _ = env.step(action)\n",
    "        \n",
    "        # Update the agent's Q-values\n",
    "        agent.update(state, action, reward, terminated, next_state)\n",
    "        \n",
    "        # Update the state for the next iteration\n",
    "        state = next_state\n",
    "\n",
    "        # Accumulate the reward for the current episode\n",
    "        rewards[i_episode] += reward\n",
    "        \n",
    "        # Check if the episode has ended\n",
    "        done = terminated or truncated\n",
    "\n",
    "env.close()"
   ]
  },
  {
   "cell_type": "code",
   "execution_count": 17,
   "id": "b17e6973",
   "metadata": {},
   "outputs": [
    {
     "data": {
      "image/png": "[encoded data removed]",
      "text/plain": [
       "<Figure size 640x480 with 1 Axes>"
      ]
     },
     "metadata": {},
     "output_type": "display_data"
    }
   ],
   "source": [
    "window_size = np.min((num_episodes // 10, 10000))  # Ensure the window size is not too large (might take a long time to compute otherwise)\n",
    "average_filter = np.ones(window_size) / window_size\n",
    "\n",
    "plt.plot(np.convolve(rewards, average_filter, mode='valid'))\n",
    "plt.xlabel('Episode')\n",
    "plt.ylabel('Average Reward')\n",
    "plt.title(f'Moving Average of Rewards (size={window_size})')\n",
    "plt.show()"
   ]
  },
  {
   "cell_type": "markdown",
   "id": "773e3ccc",
   "metadata": {},
   "source": [
    "Nice, we can see the average reward increasing over time, indicating that the agent is learning to play Blackjack better. Let's plot the state values and the policy to follow at each state.\n",
    "\n",
    "First of all, let's inspect the q_values learned by the agent. Let's check how many states we have:"
   ]
  },
  {
   "cell_type": "markdown",
   "id": "998b11d5",
   "metadata": {},
   "source": [
    "We can calculate the total number of possible states if the agent plays enough games.\n",
    "\n",
    "**Case 1**: Player has no usable ace, and doesn't exceed 21.\n",
    "- Player sum: 4-21 (18)\n",
    "- Dealer showing: 1-10 (10)\n",
    "- Total: 18 x 10 = 180 states\n",
    "\n",
    "**Case 2**: Player has an usable ace and doesn't exceed 21.\n",
    "- Player sum: 12-21 (10)\n",
    "- Dealer showing: 1-10 (10)\n",
    "- Total: 10 x 10 = 100 states\n",
    "\n",
    "**Case 3**: Player exceeds 21.\n",
    "- Player sum: 22-31 (10)\n",
    "- Dealer showing: 1-10 (10)\n",
    "- Total: 10 x 10 = 100 states\n",
    "\n",
    "Sum States = 180 + 100 + 100 = 380"
   ]
  },
  {
   "cell_type": "code",
   "execution_count": 18,
   "id": "ce5929e0",
   "metadata": {},
   "outputs": [
    {
     "name": "stdout",
     "output_type": "stream",
     "text": [
      "380\n"
     ]
    }
   ],
   "source": [
    "print(len(agent.q_values))"
   ]
  },
  {
   "cell_type": "markdown",
   "id": "742d6389",
   "metadata": {},
   "source": [
    "Let's see the what's the q-value for the state (21, 10, 0). That is:\n",
    "\n",
    "- Player sum is 21\n",
    "- Dealers up card is 10\n",
    "- No usable ace\n",
    "\n",
    "Since we got 21, the best action will be to stick, let's see what the agent has learned:"
   ]
  },
  {
   "cell_type": "code",
   "execution_count": 19,
   "id": "b3b3cf18",
   "metadata": {},
   "outputs": [
    {
     "data": {
      "text/plain": [
       "array([ 0.88466709, -0.99987218])"
      ]
     },
     "execution_count": 19,
     "metadata": {},
     "output_type": "execute_result"
    }
   ],
   "source": [
    "agent.q_values[(21, 10, 0)]"
   ]
  },
  {
   "cell_type": "markdown",
   "id": "4233cd63",
   "metadata": {},
   "source": [
    "The action 0 (stick) has larger value than action 1 (hit), so the agent has learned that the best action in this state is to stick."
   ]
  },
  {
   "cell_type": "markdown",
   "id": "ba77fe09",
   "metadata": {},
   "source": [
    "To calculate the state values from the action values, remember from the lecture that:\n",
    "\n",
    "$$\n",
    "\\pi(s) = \\arg\\max_a q_\\pi(s,a)\n",
    "\\quad\\Longrightarrow\\quad\n",
    "\\pi(a\\mid s) =\n",
    "\\begin{cases}\n",
    "1 & \\text{if }a = \\arg\\max_a q_\\pi(s,a),\\\\\n",
    "0 & \\text{otherwise.}\n",
    "\\end{cases}\n",
    "$$\n",
    "\n",
    "and that by the relationship of the state-values and action values:\n",
    "\n",
    "$$\n",
    "v_\\pi(s) = \\sum_{a \\in A} \\pi (a|s) q_\\pi(s, a)\n",
    "$$\n",
    "\n",
    "then:\n",
    "\n",
    "$$\n",
    "v_\\pi(s) = \\max_a q_\\pi(s, a)\n",
    "$$"
   ]
  },
  {
   "cell_type": "markdown",
   "id": "d09dc5c2",
   "metadata": {},
   "source": [
    "Let's plot the state-values for the combination of player sums and dealer up-cards."
   ]
  },
  {
   "cell_type": "code",
   "execution_count": 20,
   "id": "5b283254",
   "metadata": {},
   "outputs": [],
   "source": [
    "# We are going to plot the state-çvalues for sums up to 21 (no busts).\n",
    "player_sums = range(12, 22)\n",
    "dealer_upcards = range(1, 11)\n",
    "\n",
    "num_player_sums = len(player_sums)\n",
    "num_dealer_upcards = len(dealer_upcards)"
   ]
  },
  {
   "cell_type": "markdown",
   "id": "e33fd595",
   "metadata": {},
   "source": [
    "#### Exercise 2.2: Calculate the state value for usable and non-usable Aces"
   ]
  },
  {
   "cell_type": "code",
   "execution_count": null,
   "id": "79ff2c6a",
   "metadata": {},
   "outputs": [],
   "source": [
    "# We fill the matrices with the state value (maximum Q-value) for each state.\n",
    "V_usable = np.zeros((num_player_sums, num_dealer_upcards))\n",
    "V_non_usable = np.zeros((num_player_sums, num_dealer_upcards))\n",
    "\n",
    "for i_player, player_sum in enumerate(player_sums):\n",
    "    for i_dealer, dealer_upcard in enumerate(dealer_upcards):\n",
    "        # Calculate the state value for usable Ace and non-usable Ace by taking the maximum Q-value for the respective states.\n",
    "        raise NotImplementedError('You need to implement the state value calculation for usable and non-usable Aces.')\n",
    "        V_usable[i_player, i_dealer] = ...\n",
    "        V_non_usable[i_player, i_dealer] = ..."
   ]
  },
  {
   "cell_type": "markdown",
   "id": "d5cc85a3",
   "metadata": {},
   "source": [
    "<details>\n",
    "<summary>Double click to see the solution.</summary>\n",
    "\n",
    "```python\n",
    "# We fill the matrices with the state value (maximum Q-value) for each state.\n",
    "V_usable = np.zeros((num_player_sums, num_dealer_upcards))\n",
    "V_non_usable = np.zeros((num_player_sums, num_dealer_upcards))\n",
    "\n",
    "for i_player, player_sum in enumerate(player_sums):\n",
    "    for i_dealer, dealer_upcard in enumerate(dealer_upcards):\n",
    "        V_usable[i_player, i_dealer] = max(agent.q_values[(player_sum, dealer_upcard, 1)])\n",
    "        V_non_usable[i_player, i_dealer] = max(agent.q_values[(player_sum, dealer_upcard, 0)])\n",
    "````"
   ]
  },
  {
   "cell_type": "code",
   "execution_count": 22,
   "id": "d5a0240b",
   "metadata": {},
   "outputs": [
    {
     "data": {
      "image/png": "[encoded data removed]",
      "text/plain": [
       "<Figure size 1200x500 with 4 Axes>"
      ]
     },
     "metadata": {},
     "output_type": "display_data"
    }
   ],
   "source": [
    "fig, ax = plt.subplots(1, 2, figsize=(12, 5))\n",
    "\n",
    "im_usable = ax[0].imshow(V_usable, origin='lower', cmap='viridis', aspect='auto')\n",
    "ax[0].set_title('State Values with Usable Ace')\n",
    "ax[0].set_xlabel('Dealer Upcard')\n",
    "ax[0].set_ylabel('Player Sum')\n",
    "ax[0].set_xticks(range(num_dealer_upcards))\n",
    "ax[0].set_xticklabels(dealer_upcards)\n",
    "ax[0].set_yticks(range(num_player_sums))\n",
    "ax[0].set_yticklabels(player_sums)\n",
    "fig.colorbar(im_usable, ax=ax[0], label='State-value')\n",
    "\n",
    "im_non_usable = ax[1].imshow(V_non_usable, origin='lower', cmap='viridis', aspect='auto')\n",
    "ax[1].set_title('State Values without Usable Ace')\n",
    "ax[1].set_xlabel('Dealer Upcard')\n",
    "ax[1].set_ylabel('Player Sum')\n",
    "ax[1].set_xticks(range(num_dealer_upcards))\n",
    "ax[1].set_xticklabels(dealer_upcards)\n",
    "ax[1].set_yticks(range(num_player_sums))\n",
    "ax[1].set_yticklabels(player_sums)\n",
    "fig.colorbar(im_non_usable, ax=ax[1], label='State-value')\n",
    "plt.tight_layout()\n",
    "\n",
    "plt.show()"
   ]
  },
  {
   "cell_type": "markdown",
   "id": "eb84de7f",
   "metadata": {},
   "source": [
    "**Question**: What states have lower values? What states have higher values? Why?"
   ]
  },
  {
   "cell_type": "markdown",
   "id": "c16e6866",
   "metadata": {},
   "source": [
    "<details>\n",
    "<summary>Double click to see the solution.</summary>\n",
    "\n",
    "States with player sums close to 21 have higher state-values because they’re more likely to yield a win or draw. Conversely, low-sum states have lower values, since you can only win them in the rare event that the dealer busts."
   ]
  },
  {
   "cell_type": "markdown",
   "id": "c93999b4",
   "metadata": {},
   "source": [
    "Let's plot now the policy for each state:"
   ]
  },
  {
   "cell_type": "markdown",
   "id": "c34639ea",
   "metadata": {},
   "source": [
    "#### Exercise 2.3: Calculate the policy for usable and non-usable Aces"
   ]
  },
  {
   "cell_type": "code",
   "execution_count": null,
   "id": "36d789ec",
   "metadata": {},
   "outputs": [],
   "source": [
    "# We fill the matrices with the policy (best action) for each state.\n",
    "pi_usable = np.zeros((num_player_sums, num_dealer_upcards))\n",
    "pi_non_usable = np.zeros((num_player_sums, num_dealer_upcards))\n",
    "\n",
    "for i_player, player_sum in enumerate(player_sums):\n",
    "    for i_dealer, dealer_upcard in enumerate(dealer_upcards):\n",
    "        # Calculate the policy for usable Ace and non-usable Ace by taking the argmax Q-value for the respective states.\n",
    "        raise NotImplementedError('You need to implement the policy calculation for usable and non-usable Aces.')\n",
    "        pi_usable[i_player, i_dealer] = ...\n",
    "        pi_non_usable[i_player, i_dealer] = ..."
   ]
  },
  {
   "cell_type": "markdown",
   "id": "74c582e2",
   "metadata": {},
   "source": [
    "<details>\n",
    "<summary>Double click to see the solution.</summary>\n",
    "\n",
    "```python\n",
    "# We fill the matrices with the policy (best action) for each state.\n",
    "pi_usable = np.zeros((num_player_sums, num_dealer_upcards))\n",
    "pi_non_usable = np.zeros((num_player_sums, num_dealer_upcards))\n",
    "\n",
    "for i_player, player_sum in enumerate(player_sums):\n",
    "    for i_dealer, dealer_upcard in enumerate(dealer_upcards):\n",
    "        pi_usable[i_player, i_dealer] = np.argmax(agent.q_values[(player_sum, dealer_upcard, 1)])\n",
    "        pi_non_usable[i_player, i_dealer] = np.argmax(agent.q_values[(player_sum, dealer_upcard, 0)])\n",
    "```"
   ]
  },
  {
   "cell_type": "code",
   "execution_count": null,
   "id": "f986b212",
   "metadata": {},
   "outputs": [
    {
     "data": {
      "image/png": "[encoded data removed]",
      "text/plain": [
       "<Figure size 1000x500 with 2 Axes>"
      ]
     },
     "metadata": {},
     "output_type": "display_data"
    },
    {
     "ename": "",
     "evalue": "",
     "output_type": "error",
     "traceback": [
      "\u001b[1;31mThe Kernel crashed while executing code in the current cell or a previous cell. \n",
      "\u001b[1;31mPlease review the code in the cell(s) to identify a possible cause of the failure. \n",
      "\u001b[1;31mClick <a href='https://aka.ms/vscodeJupyterKernelCrash'>here</a> for more info. \n",
      "\u001b[1;31mView Jupyter <a href='command:jupyter.viewOutput'>log</a> for further details."
     ]
    }
   ],
   "source": [
    "fig, ax = plt.subplots(1, 2, figsize=(10, 5))\n",
    "\n",
    "im_usable = ax[0].imshow(pi_usable, origin='lower', cmap='coolwarm', aspect='auto')\n",
    "ax[0].set_title('Policy with Usable Ace')\n",
    "ax[0].set_xlabel('Dealer Upcard')\n",
    "ax[0].set_ylabel('Player Sum')\n",
    "ax[0].set_xticks(range(num_dealer_upcards))\n",
    "ax[0].set_xticklabels(dealer_upcards)\n",
    "ax[0].set_yticks(range(num_player_sums))\n",
    "ax[0].set_yticklabels(player_sums)\n",
    "\n",
    "for i in range(pi_usable.shape[0]):\n",
    "    for j in range(pi_usable.shape[1]):\n",
    "        action = 'H' if pi_usable[i,j] == 1 else 'S'\n",
    "        ax[0].text(j, i, action, ha='center', va='center', color='black')\n",
    "\n",
    "im_non_usable = ax[1].imshow(pi_non_usable, origin='lower', cmap='coolwarm', aspect='auto')\n",
    "ax[1].set_title('Policy without Usable Ace')\n",
    "ax[1].set_xlabel('Dealer Upcard')\n",
    "ax[1].set_ylabel('Player Sum')\n",
    "ax[1].set_xticks(range(num_dealer_upcards))\n",
    "ax[1].set_xticklabels(dealer_upcards)\n",
    "ax[1].set_yticks(range(num_player_sums))\n",
    "ax[1].set_yticklabels(player_sums)\n",
    "\n",
    "for i in range(pi_non_usable.shape[0]):\n",
    "    for j in range(pi_non_usable.shape[1]):\n",
    "        action = 'H' if pi_non_usable[i,j] == 1 else 'S'\n",
    "        ax[1].text(j, i, action, ha='center', va='center', color='black')\n",
    "\n",
    "plt.tight_layout()\n",
    "\n",
    "plt.show()"
   ]
  },
  {
   "cell_type": "markdown",
   "id": "f0a4588f",
   "metadata": {},
   "source": [
    "### Summary\n",
    "\n",
    "- In this notebook, we implemented a simple Blackjack agent using **Q-learning**. In Q-learning is model-free algorithm, meaning the agent learns the optimal action-value function from sampled experience, without needing a model of the environment.\n",
    "\n",
    "- We have implemented $\\epsilon$-greedy strategy to address the **exploitation-exploration** dilemma. From time to time, the agent will behave randomly to explore new states, which will help to find a better policy.\n",
    "\n",
    "- Finally, we recovered the state values and policy from the action values learned by the agent."
   ]
  }
 ],
 "metadata": {
  "kernelspec": {
   "display_name": "RL",
   "language": "python",
   "name": "python3"
  },
  "language_info": {
   "codemirror_mode": {
    "name": "ipython",
    "version": 3
   },
   "file_extension": ".py",
   "mimetype": "text/x-python",
   "name": "python",
   "nbconvert_exporter": "python",
   "pygments_lexer": "ipython3",
   "version": "3.12.0"
  }
 },
 "nbformat": 4,
 "nbformat_minor": 5
}
